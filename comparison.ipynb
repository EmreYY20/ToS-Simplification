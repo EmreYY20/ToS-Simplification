{
  "cells": [
    {
      "cell_type": "markdown",
      "metadata": {
        "id": "view-in-github",
        "colab_type": "text"
      },
      "source": [
        "<a href=\"https://colab.research.google.com/github/EmreYY20/ToS-Simplification/blob/dev/comparison.ipynb\" target=\"_parent\"><img src=\"https://colab.research.google.com/assets/colab-badge.svg\" alt=\"Open In Colab\"/></a>"
      ]
    },
    {
      "cell_type": "code",
      "source": [
        "# !pip install PyPDF2\n",
        "# !pip install nltk\n",
        "# !pip install transformers\n",
        "# !pip install rouge\n"
      ],
      "metadata": {
        "id": "e1CLYPst3-Tv"
      },
      "execution_count": 45,
      "outputs": []
    },
    {
      "cell_type": "code",
      "execution_count": 60,
      "metadata": {
        "id": "oIpIxfrk30Ip"
      },
      "outputs": [],
      "source": [
        "import PyPDF2\n",
        "import nltk\n",
        "from nltk.corpus import stopwords\n",
        "from nltk.tokenize import word_tokenize, sent_tokenize\n",
        "from collections import defaultdict\n",
        "import heapq\n",
        "from transformers import pipeline\n",
        "from transformers import BartForConditionalGeneration, BartTokenizer\n",
        "from rouge import Rouge\n",
        "from nltk.translate.bleu_score import sentence_bleu\n",
        "from nltk.translate.meteor_score import meteor_score\n",
        "from collections import Counter\n",
        "from nltk.tokenize import word_tokenize"
      ]
    },
    {
      "cell_type": "code",
      "execution_count": 47,
      "metadata": {
        "id": "hk2nOWea30Ir"
      },
      "outputs": [],
      "source": [
        "# PDFs einlesen\n",
        "def lese_pdf_datei(dateipfad):\n",
        "    text = \"\"\n",
        "    with open(dateipfad, 'rb') as datei:\n",
        "        pdf_reader = PyPDF2.PdfReader(datei)\n",
        "        for seite in range(len(pdf_reader.pages)):\n",
        "            text += pdf_reader.pages[seite].extract_text()  # Verwenden von pages[seite] statt getPage(seite)\n",
        "    return text"
      ]
    },
    {
      "cell_type": "code",
      "execution_count": 62,
      "metadata": {
        "colab": {
          "base_uri": "https://localhost:8080/"
        },
        "id": "FvEBRxyW30Ir",
        "outputId": "f8db5ee6-bac2-4fdf-c1db-99f6e401d2a2"
      },
      "outputs": [
        {
          "output_type": "stream",
          "name": "stderr",
          "text": [
            "[nltk_data] Downloading package punkt to /root/nltk_data...\n",
            "[nltk_data]   Package punkt is already up-to-date!\n",
            "[nltk_data] Downloading package stopwords to /root/nltk_data...\n",
            "[nltk_data]   Package stopwords is already up-to-date!\n",
            "[nltk_data] Downloading package wordnet to /root/nltk_data...\n"
          ]
        }
      ],
      "source": [
        "# Extractive\n",
        "nltk.download('punkt')\n",
        "nltk.download('stopwords')\n",
        "nltk.download('wordnet')\n",
        "from nltk.corpus import stopwords\n",
        "stop_words = set(stopwords.words('english'))\n",
        "\n",
        "def extraktive_zusammenfassung(text):\n",
        "    sentences = sent_tokenize(text)\n",
        "    frequency_table = Counter(word.lower() for word in word_tokenize(text) if word.lower() not in stop_words and word.isalpha())\n",
        "\n",
        "    sentence_scores = {sentence: sum(frequency_table[word.lower()] for word in word_tokenize(sentence) if word.lower() in frequency_table) for sentence in sentences}\n",
        "\n",
        "    summary_sentences = heapq.nlargest(3, sentence_scores, key=sentence_scores.get)\n",
        "    return ' '.join(summary_sentences)\n"
      ]
    },
    {
      "cell_type": "code",
      "execution_count": 49,
      "metadata": {
        "id": "uWZCJGb330Ir"
      },
      "outputs": [],
      "source": [
        "# Abstractive\n",
        "def abstraktive_zusammenfassung_bart(text, model_name='facebook/bart-large-cnn'):\n",
        "    tokenizer = BartTokenizer.from_pretrained(model_name)\n",
        "    model = BartForConditionalGeneration.from_pretrained(model_name)\n",
        "\n",
        "    inputs = tokenizer([text], max_length=1024, return_tensors='pt', truncation=True)\n",
        "    summary_ids = model.generate(inputs['input_ids'], num_beams=4, max_length=200, early_stopping=True)\n",
        "\n",
        "    return tokenizer.decode(summary_ids[0], skip_special_tokens=True)\n"
      ]
    },
    {
      "cell_type": "code",
      "execution_count": 66,
      "metadata": {
        "id": "W1XrnPzB30Is"
      },
      "outputs": [],
      "source": [
        "# Rouge\n",
        "def bewerte_mit_rouge(produzierte_zusammenfassung, referenz_zusammenfassung):\n",
        "    def formatiere_rouge_ergebnisse(rouge_ergebnisse):\n",
        "        ergebnis_strings = []\n",
        "        for score in rouge_ergebnisse:\n",
        "            for metric, values in score.items():\n",
        "                ergebnis_strings.append(f\"{metric}: Precision: {values['p']:.4f}, Recall: {values['r']:.4f}, F1-Score: {values['f']:.4f}\")\n",
        "        return \"\\n\".join(ergebnis_strings)\n",
        "\n",
        "    rouge = Rouge()\n",
        "    scores = rouge.get_scores(produzierte_zusammenfassung, referenz_zusammenfassung)\n",
        "    return formatiere_rouge_ergebnisse(scores)"
      ]
    },
    {
      "cell_type": "code",
      "execution_count": 75,
      "metadata": {
        "id": "NBDUmBog30Is"
      },
      "outputs": [],
      "source": [
        "# Meteor\n",
        "def bewerte_mit_meteor(produzierte_zusammenfassung, referenz_zusammenfassung):\n",
        "    produzierte_zusammenfassung_tokens = word_tokenize(produzierte_zusammenfassung)\n",
        "    referenz_zusammenfassung_tokens = word_tokenize(referenz_zusammenfassung)\n",
        "    score = meteor_score([referenz_zusammenfassung_tokens], produzierte_zusammenfassung_tokens)\n",
        "    return str(score)\n"
      ]
    },
    {
      "cell_type": "code",
      "execution_count": 52,
      "metadata": {
        "id": "aRKUonFS30Is"
      },
      "outputs": [],
      "source": [
        "# def bewerte_mit_bleu(produzierte_zusammenfassung, referenz_zusammenfassung):\n",
        "#     referenz = [referenz_zusammenfassung.split()]\n",
        "#     kandidat = produzierte_zusammenfassung.split()\n",
        "#     score = sentence_bleu(referenz, kandidat)\n",
        "#     return score"
      ]
    },
    {
      "cell_type": "code",
      "source": [
        "from google.colab import drive\n",
        "drive.mount('/content/drive')"
      ],
      "metadata": {
        "colab": {
          "base_uri": "https://localhost:8080/"
        },
        "id": "Iq012lOV4__w",
        "outputId": "6c1d0211-c701-4a8b-f195-ab4746c04b4f"
      },
      "execution_count": 53,
      "outputs": [
        {
          "output_type": "stream",
          "name": "stdout",
          "text": [
            "Drive already mounted at /content/drive; to attempt to forcibly remount, call drive.mount(\"/content/drive\", force_remount=True).\n"
          ]
        }
      ]
    },
    {
      "cell_type": "code",
      "execution_count": 54,
      "metadata": {
        "id": "JHU5k9Ok30Is"
      },
      "outputs": [],
      "source": [
        "# Einlesen der PDFs\n",
        "file_path = '/content/drive/My Drive/PDFs/'\n",
        "\n",
        "Apple =  lese_pdf_datei(file_path + \"Apple.pdf\")\n",
        "ref_Apple =  lese_pdf_datei(file_path + \"Ref_Apple.pdf\")\n",
        "\n",
        "Bolt =  lese_pdf_datei(file_path + \"Bolt.pdf\")\n",
        "ref_Bolt =  lese_pdf_datei(file_path + \"Ref_Bolt.pdf\")\n",
        "\n",
        "Discord =  lese_pdf_datei(file_path + \"Discord.pdf\")\n",
        "ref_Discord =  lese_pdf_datei(file_path + \"Ref_Discord.pdf\")\n"
      ]
    },
    {
      "cell_type": "code",
      "source": [
        "# Druchführen Abstractive\n",
        "\n",
        "ab_Apple = abstraktive_zusammenfassung_bart(Apple)\n",
        "ab_Bolt = abstraktive_zusammenfassung_bart(Bolt)\n",
        "ab_Discord = abstraktive_zusammenfassung_bart(Discord)\n"
      ],
      "metadata": {
        "id": "gmiTcorI8D36"
      },
      "execution_count": 55,
      "outputs": []
    },
    {
      "cell_type": "code",
      "source": [
        "# Druchführen Extractive\n",
        "\n",
        "ex_Apple = extraktive_zusammenfassung(Apple)\n",
        "ex_Bolt = extraktive_zusammenfassung(Bolt)\n",
        "ex_Discord = extraktive_zusammenfassung(Discord)"
      ],
      "metadata": {
        "id": "bHdiqNRE8Y14"
      },
      "execution_count": 56,
      "outputs": []
    },
    {
      "cell_type": "code",
      "source": [
        "# Bewertung Extracitve\n",
        "\n",
        "ro_ex_Apple = bewerte_mit_rouge(ex_Apple, ref_Apple)\n",
        "ro_ex_Bolt = bewerte_mit_rouge(ex_Bolt, ref_Bolt)\n",
        "ro_ex_Discord = bewerte_mit_rouge(ex_Discord, ref_Discord)\n",
        "\n",
        "me_ex_Apple = bewerte_mit_meteor(ex_Apple, ref_Apple)\n",
        "me_ex_Bolt = bewerte_mit_meteor(ex_Bolt, ref_Bolt)\n",
        "me_ex_Discord = bewerte_mit_meteor(ex_Discord, ref_Discord)"
      ],
      "metadata": {
        "id": "WgyKqnfT9XL_"
      },
      "execution_count": 77,
      "outputs": []
    },
    {
      "cell_type": "code",
      "source": [
        "# Bewertung Abstarctive\n",
        "\n",
        "ro_ab_Apple = bewerte_mit_rouge(ab_Apple, ref_Apple)\n",
        "ro_ab_Bolt = bewerte_mit_rouge(ab_Bolt, ref_Bolt)\n",
        "ro_ab_Discord = bewerte_mit_rouge(ab_Discord, ref_Discord)\n",
        "\n",
        "me_ab_Apple = bewerte_mit_meteor(ab_Apple, ref_Apple)\n",
        "me_ab_Bolt = bewerte_mit_meteor(ab_Bolt, ref_Bolt)\n",
        "me_ab_Discord = bewerte_mit_meteor(ab_Discord, ref_Discord)"
      ],
      "metadata": {
        "id": "qf3RSBfk-dUb"
      },
      "execution_count": 78,
      "outputs": []
    },
    {
      "cell_type": "code",
      "source": [
        "# Rouge Extractive\n",
        "print(\"Apple Extractive: \\n\" + ro_ex_Apple)\n",
        "print(\"Bolt Extractive:  \\n\" + ro_ex_Bolt)\n",
        "print(\"Discord Extractive:  \\n\" + ro_ex_Bolt)"
      ],
      "metadata": {
        "colab": {
          "base_uri": "https://localhost:8080/"
        },
        "id": "0g8u9n9a-tMW",
        "outputId": "b1790b99-9f42-4782-9e9a-9a49e16dc551"
      },
      "execution_count": 71,
      "outputs": [
        {
          "output_type": "stream",
          "name": "stdout",
          "text": [
            "Apple Extractive: \n",
            "rouge-1: Precision: 0.4608, Recall: 0.1418, F1-Score: 0.2168\n",
            "rouge-2: Precision: 0.2963, Recall: 0.0649, F1-Score: 0.1065\n",
            "rouge-l: Precision: 0.4461, Recall: 0.1373, F1-Score: 0.2099\n",
            "Bolt Extractive:  \n",
            "rouge-1: Precision: 0.3363, Recall: 0.3918, F1-Score: 0.3619\n",
            "rouge-2: Precision: 0.1564, Recall: 0.1958, F1-Score: 0.1739\n",
            "rouge-l: Precision: 0.3274, Recall: 0.3814, F1-Score: 0.3524\n",
            "Discord Extractive:  \n",
            "rouge-1: Precision: 0.3363, Recall: 0.3918, F1-Score: 0.3619\n",
            "rouge-2: Precision: 0.1564, Recall: 0.1958, F1-Score: 0.1739\n",
            "rouge-l: Precision: 0.3274, Recall: 0.3814, F1-Score: 0.3524\n"
          ]
        }
      ]
    },
    {
      "cell_type": "code",
      "source": [
        "# Rouge Abstractive\n",
        "print(\"Apple Abstractive:  \\n\" + ro_ab_Apple)\n",
        "print(\"Bolt Abstractive:  \\n\" + ro_ab_Bolt)\n",
        "print(\"Discord Abstractive:  \\n\" + ro_ab_Discord)"
      ],
      "metadata": {
        "colab": {
          "base_uri": "https://localhost:8080/"
        },
        "id": "Ol1DYHbF_xY5",
        "outputId": "c3e16cc7-12b3-42a6-da75-bebab790f152"
      },
      "execution_count": 74,
      "outputs": [
        {
          "output_type": "stream",
          "name": "stdout",
          "text": [
            "Apple Abstractive:  \n",
            "rouge-1: Precision: 0.4286, Recall: 0.0271, F1-Score: 0.0511\n",
            "rouge-2: Precision: 0.0851, Recall: 0.0027, F1-Score: 0.0052\n",
            "rouge-l: Precision: 0.4048, Recall: 0.0256, F1-Score: 0.0482\n",
            "Bolt Abstractive:  \n",
            "rouge-1: Precision: 0.2927, Recall: 0.1237, F1-Score: 0.1739\n",
            "rouge-2: Precision: 0.0408, Recall: 0.0140, F1-Score: 0.0208\n",
            "rouge-l: Precision: 0.2439, Recall: 0.1031, F1-Score: 0.1449\n",
            "Discord Abstractive:  \n",
            "rouge-1: Precision: 0.5000, Recall: 0.1127, F1-Score: 0.1839\n",
            "rouge-2: Precision: 0.0847, Recall: 0.0144, F1-Score: 0.0246\n",
            "rouge-l: Precision: 0.4583, Recall: 0.1033, F1-Score: 0.1686\n"
          ]
        }
      ]
    },
    {
      "cell_type": "markdown",
      "source": [
        "Extraktive Methode: Bei der extraktiven Methode sind Precision, Recall und F1-Scores für \"Bolt\" und \"Discord\" höher als für \"Apple\", was darauf hindeutet, dass die Zusammenfassungen für \"Bolt\" und \"Discord\" näher am Originaltext liegen.\n",
        "Abstraktive Methode: Die Scores sind generell niedriger, insbesondere bei ROUGE-2, was aufgrund der Neuparaphrasierung der Inhalte in abstraktiven Zusammenfassungen zu erwarten ist."
      ],
      "metadata": {
        "id": "aqsYZe5-Dw-V"
      }
    },
    {
      "cell_type": "code",
      "source": [
        "# Meteor Extractive\n",
        "print(\"Apple Extractive:  \\n\" + me_ex_Apple)\n",
        "print(\"Bolt Extractive:  \\n\" + me_ex_Bolt)\n",
        "print(\"Discord Extractive:  \\n\" + me_ex_Bolt)"
      ],
      "metadata": {
        "colab": {
          "base_uri": "https://localhost:8080/"
        },
        "id": "hxz1Yo6f__5c",
        "outputId": "9ecc65af-654b-4956-f642-968288398d30"
      },
      "execution_count": 79,
      "outputs": [
        {
          "output_type": "stream",
          "name": "stdout",
          "text": [
            "Apple Extractive:  \n",
            "0.10472632806724269\n",
            "Bolt Extractive:  \n",
            "0.2797713529856387\n",
            "Discord Extractive:  \n",
            "0.2797713529856387\n"
          ]
        }
      ]
    },
    {
      "cell_type": "code",
      "source": [
        "# Meteor Abstractive\n",
        "print(\"Apple Abstractive:  \\n\" + me_ab_Apple)\n",
        "print(\"Bolt Abstractive:  \\n\" + me_ab_Bolt)\n",
        "print(\"Discord Abstractive:  \\n\" + me_ab_Discord)"
      ],
      "metadata": {
        "colab": {
          "base_uri": "https://localhost:8080/"
        },
        "id": "nXkbRO-cAAeE",
        "outputId": "c68ae861-d769-44b8-dbee-44caefa3e3c4"
      },
      "execution_count": 80,
      "outputs": [
        {
          "output_type": "stream",
          "name": "stdout",
          "text": [
            "Apple Abstractive:  \n",
            "0.016847849739817986\n",
            "Bolt Abstractive:  \n",
            "0.07444168734491315\n",
            "Discord Abstractive:  \n",
            "0.07254558491023008\n"
          ]
        }
      ]
    },
    {
      "cell_type": "markdown",
      "source": [
        "Extraktive Methode: Die METEOR-Scores für \"Bolt\" und \"Discord\" sind deutlich höher als für \"Apple\", was darauf hindeutet, dass diese Zusammenfassungen dem Referenzinhalt näher kommen.\n",
        "Abstraktive Methode: Die Scores sind hier deutlich niedriger, was darauf hindeutet, dass die generierten Zusammenfassungen weniger genau im Vergleich zur Referenzzusammenfassung sind."
      ],
      "metadata": {
        "id": "cZPPtjvLDy5D"
      }
    },
    {
      "cell_type": "markdown",
      "source": [
        "Gesamtbewertung:\n",
        "Die extraktiven Methoden scheinen eine höhere Genauigkeit zu haben, gemessen an den ROUGE- und METEOR-Scores, verglichen mit den abstraktiven Methoden.\n",
        "Die abstraktiven Methoden zeigen generell niedrigere Scores, was darauf hindeutet, dass die generierten Zusammenfassungen weniger genau mit der Referenzzusammenfassung übereinstimmen. Dies könnte auf die Neuparaphrasierung und den veränderten Kontext der Inhalte in abstraktiven Zusammenfassungen zurückzuführen sein."
      ],
      "metadata": {
        "id": "gi6fH5cWEFBq"
      }
    }
  ],
  "metadata": {
    "kernelspec": {
      "display_name": "NLP",
      "language": "python",
      "name": "python3"
    },
    "language_info": {
      "codemirror_mode": {
        "name": "ipython",
        "version": 3
      },
      "file_extension": ".py",
      "mimetype": "text/x-python",
      "name": "python",
      "nbconvert_exporter": "python",
      "pygments_lexer": "ipython3",
      "version": "3.12.0"
    },
    "colab": {
      "provenance": [],
      "include_colab_link": true
    }
  },
  "nbformat": 4,
  "nbformat_minor": 0
}