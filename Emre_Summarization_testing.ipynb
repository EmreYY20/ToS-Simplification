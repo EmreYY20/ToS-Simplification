{
  "nbformat": 4,
  "nbformat_minor": 0,
  "metadata": {
    "colab": {
      "provenance": [],
      "authorship_tag": "ABX9TyPwmaVkn6sq7Bm2aBjAg0mv",
      "include_colab_link": true
    },
    "kernelspec": {
      "name": "python3",
      "display_name": "Python 3"
    },
    "language_info": {
      "name": "python"
    }
  },
  "cells": [
    {
      "cell_type": "markdown",
      "metadata": {
        "id": "view-in-github",
        "colab_type": "text"
      },
      "source": [
        "<a href=\"https://colab.research.google.com/github/EmreYY20/ToS-Simplification/blob/dev/Emre_Summarization_testing.ipynb\" target=\"_parent\"><img src=\"https://colab.research.google.com/assets/colab-badge.svg\" alt=\"Open In Colab\"/></a>"
      ]
    },
    {
      "cell_type": "markdown",
      "source": [
        "# 0. Imports"
      ],
      "metadata": {
        "id": "nGhk1JFFsSAI"
      }
    },
    {
      "cell_type": "code",
      "source": [
        "!pip install sumy PyPDF2 textstat transformers"
      ],
      "metadata": {
        "id": "69iazttu-qNP"
      },
      "execution_count": null,
      "outputs": []
    },
    {
      "cell_type": "code",
      "source": [
        "from sumy.parsers.plaintext import PlaintextParser\n",
        "from sumy.nlp.tokenizers import Tokenizer\n",
        "from sumy.summarizers.lsa import LsaSummarizer\n",
        "from sumy.summarizers.lex_rank import LexRankSummarizer\n",
        "from sumy.summarizers.text_rank import TextRankSummarizer\n",
        "from sumy.nlp.stemmers import Stemmer\n",
        "from sumy.utils import get_stop_words\n",
        "\n",
        "#import transformers\n",
        "#from transformers import T5ForConditionalGeneration, T5Tokenizer\n",
        "\n",
        "import textstat\n",
        "import nltk\n",
        "import PyPDF2\n",
        "\n",
        "nltk.download('punkt')"
      ],
      "metadata": {
        "id": "RC7d_s-a9stC"
      },
      "execution_count": null,
      "outputs": []
    },
    {
      "cell_type": "markdown",
      "source": [
        "# 1. Automated Extractive Summarization"
      ],
      "metadata": {
        "id": "2TwAUbKo9l6v"
      }
    },
    {
      "cell_type": "markdown",
      "source": [
        "1.1. Using sumy"
      ],
      "metadata": {
        "id": "yBz5ld5PAnal"
      }
    },
    {
      "cell_type": "code",
      "source": [
        "# URL of the PDF document\n",
        "pdf_url = \"/content/Bolt.pdf\"\n",
        "\n",
        "# Extract text from the PDF\n",
        "pdf_text = \"\"\n",
        "with open(pdf_url, \"rb\") as pdf_file:\n",
        "    pdf_reader = PyPDF2.PdfReader(pdf_file)\n",
        "    for page_num in range(len(pdf_reader.pages)):\n",
        "        page = pdf_reader.pages[page_num]\n",
        "        pdf_text += page.extract_text()\n",
        "\n",
        "# Create a parser for the extracted ToS text\n",
        "parser = PlaintextParser.from_string(pdf_text, Tokenizer(\"english\"))\n",
        "\n",
        "# Use LSA (Latent Semantic Analysis) for summarization\n",
        "lsa_summarizer = LsaSummarizer()\n",
        "lsa_summary = lsa_summarizer(parser.document, sentences_count=10)  # Change the number of sentences as needed\n",
        "\n",
        "# Use LexRank for summarization\n",
        "lex_rank_summarizer = LexRankSummarizer()\n",
        "lex_rank_summary = lex_rank_summarizer(parser.document, sentences_count=10)  # Change the number of sentences as needed\n",
        "\n",
        "# Use TextRank for summarization\n",
        "text_rank_summarizer = TextRankSummarizer()\n",
        "text_rank_summary = text_rank_summarizer(parser.document, sentences_count=10)  # Change the number of sentences as needed\n",
        "\n",
        "# Print summaries\n",
        "print(\"LSA Summary:\")\n",
        "for sentence in lsa_summary:\n",
        "    print(sentence)\n",
        "\n",
        "print(\"\\nLexRank Summary:\")\n",
        "for sentence in lex_rank_summary:\n",
        "    print(sentence)\n",
        "\n",
        "print(\"\\nTextRank Summary:\")\n",
        "for sentence in text_rank_summary:\n",
        "    print(sentence)\n"
      ],
      "metadata": {
        "id": "ImD0ULP28vf-",
        "colab": {
          "base_uri": "https://localhost:8080/"
        },
        "outputId": "98adc3ed-cecb-4ca4-febf-d999183fffa1"
      },
      "execution_count": 45,
      "outputs": [
        {
          "output_type": "stream",
          "name": "stdout",
          "text": [
            "LSA Summary:\n",
            "The list of Bolt group companies and partners is available at https://bolt.eu/cities/ In order to use Bolt app you must agree to the terms and conditions that are set out below: 1.\n",
            "Transport services are provided by drivers under a contract (with you) for the carriage of passengers.\n",
            "Drivers provide transport services on an independent basis (either in person or via a company) as economic and professional service providers.\n",
            "These service providers may charge you additional fees when processing payments in connection with the Bolt in-App Payment.\n",
            "Bolt is not responsible for any such fees and disclaims all liability in this regard.\n",
            "The resolution of disputes related to Bolt in-App Payment also takes place through us.\n",
            "Inquiries submitted by e-mail or Bolt App will receive a response within one business day.\n",
            "4.4 If you cancel a transport service request on multiple successive instances within 24- hour we may temporarily block your account for warning.\n",
            "Sometimes driver may decide to cancel your request, please note that Bolt is not responsible for such situations.\n",
            "Amendments to the General Terms and Conditions 8.1 If any substantial amendments are made to the General Terms and Conditions, then you will be notified by e-mail or Bolt app notifications.\n",
            "\n",
            "LexRank Summary:\n",
            "The passenger (you) enters into a contract with the driver for the provision of transport services via the Bolt app.\n",
            "If you wish, you may also choose to pay a Tip to the driver directly or via the use of Bolt in-App Payment.\n",
            "Bolt in-App Payment 3.1 Depending on the payment options supported for the given location of the journey, You can pay for the transport services with a card, mobile carrier billing or other payment methods (e.g: Bolt Business) as and when available through Bolt App.\n",
            "3.2 You may choose to pay a Tip to the driver using the Bolt In-app Payment service.\n",
            "Bolt reserves the right to withhold the Tip, if the payment of the Tip is suspected as being fraudulent, illegal, for a purpose other than as a gratuity related to the service provided or used in conflict with Bolt’s Terms and Conditions 3.3 When making payments by Bolt in-App Payment, Bolt receives your payments and forwards money to the driver.\n",
            "Your payment method may also be subject to additional terms and conditions imposed by the applicable third-party payment service provider; please review these terms and conditions before using your payment method.\n",
            "4.2 Once a driver confirms that he/she will complete your journey, you will enter into a separate agreement with the driver for the provision of the journey on such terms and conditions as you agree with the driver.\n",
            "As the usage of Bolt app for requesting transport services depends on the behaviour of the drivers, Bolt does not guarantee that you will always have offers available for the provision of the transport services.\n",
            "Good practice using the Bolt app 7.1 As Bolt is not a provider or broker of the transport services, any issues with defects or quality of the transport services will be resolved in accordance with the rules and regulations of the transport service provider or the relevant public authority.\n",
            "Bolt retains the right to close your account if you have violated the terms set out in this General Terms and Conditions or if your activities are malicious, i.e. withholding payment for the provision of the transport service, fraud, being disrespectful towards the drivers, etc.\n",
            "\n",
            "TextRank Summary:\n",
            "Every driver has authorised Bolt as their commercial agent for the mediation of conclusion of contracts between the driver and the passenger, including the power to accept payments from the passengers and to forward the payments to the driver.\n",
            "Bolt reserves the right to withhold the Tip, if the payment of the Tip is suspected as being fraudulent, illegal, for a purpose other than as a gratuity related to the service provided or used in conflict with Bolt’s Terms and Conditions 3.3 When making payments by Bolt in-App Payment, Bolt receives your payments and forwards money to the driver.\n",
            "4.5 When driver notifies the passenger about the arrival of the vehicle to its destination and passenger or people for whom the transport was ordered do not arrive at the vehicle within certain time period as specified in the Bolt app, the request will be deemed cancelled.\n",
            "4.7 If you have requested transport services using the Bolt app and cause damage to the driver’s vehicle or its furnishing (among else, by blemishing or staining the vehicle or causing the vehicle to stink), the driver will have the right to require you to pay a penalty of 50 EUR and require compensation for any damages exceeding the penalty.\n",
            "As the usage of Bolt app for requesting transport services depends on the behaviour of the drivers, Bolt does not guarantee that you will always have offers available for the provision of the transport services.\n",
            "In case of any faults in the software, we will endeavour to correct them as soon as possible, but please keep in mind that the functioning of the app may be restricted due to occasional technical errors and we are not able to guarantee that the app will function at all times, for example a public emergency may result in a service interruption.\n",
            "6.5 Bolt, its representatives, directors and employees are not liable for any loss or damage that you may incur as a result of using Bolt app or relying on, the journey contracted for through the Bolt app, including but not limited to: 6.5.1. any direct or indirect property damage or monetary loss; 6.5.2. loss of profit; 6.5.3. loss of business, contracts, contacts, goodwill, reputation and any loss that may arise from interruption of the business; 6.5.4. loss or inaccuracy of data; and 6.5.5. any other type of loss or damage.\n",
            "6.7 You agree to fully indemnify and hold Bolt, their affiliate companies, representatives, employees and directors harmless from any claims or losses (including liabilities, damages, costs and expenses of any nature) that they suffer as a result of your use of the Bolt app (including the journeys you obtain through your use of the Bolt app).\n",
            "Good practice using the Bolt app 7.1 As Bolt is not a provider or broker of the transport services, any issues with defects or quality of the transport services will be resolved in accordance with the rules and regulations of the transport service provider or the relevant public authority.\n",
            "Bolt retains the right to close your account if you have violated the terms set out in this General Terms and Conditions or if your activities are malicious, i.e. withholding payment for the provision of the transport service, fraud, being disrespectful towards the drivers, etc.\n"
          ]
        }
      ]
    },
    {
      "cell_type": "code",
      "source": [
        "# Convert summaries to strings\n",
        "lsa_summary_text = ' '.join(map(str, lsa_summary))\n",
        "lex_rank_summary_text = ' '.join(map(str, lex_rank_summary))\n",
        "text_rank_summary_text = ' '.join(map(str, text_rank_summary))\n",
        "\n",
        "# Content-based evaluation\n",
        "original_sentences = pdf_text.split('.')\n",
        "lsa_summary_sentences = lsa_summary_text.split('.')\n",
        "lex_rank_summary_sentences = lex_rank_summary_text.split('.')\n",
        "text_rank_summary_sentences = text_rank_summary_text.split('.')\n",
        "\n",
        "# Calculate overlap between original and summary sentences\n",
        "def calculate_overlap(summary_sentences):\n",
        "    overlap_count = sum(1 for sentence in summary_sentences if sentence in original_sentences)\n",
        "    overlap_percentage = (overlap_count / len(original_sentences)) * 100\n",
        "    return overlap_percentage\n",
        "\n",
        "print(\"Overlap with Original Text (LSA): {:.2f}%\".format(calculate_overlap(lsa_summary_sentences)))\n",
        "print(\"Overlap with Original Text (LexRank): {:.2f}%\".format(calculate_overlap(lex_rank_summary_sentences)))\n",
        "print(\"Overlap with Original Text (TextRank): {:.2f}%\".format(calculate_overlap(text_rank_summary_sentences)))"
      ],
      "metadata": {
        "colab": {
          "base_uri": "https://localhost:8080/"
        },
        "id": "QJ1OGeOfC9ob",
        "outputId": "ff234946-d4f9-441a-f820-c061152c6e47"
      },
      "execution_count": 50,
      "outputs": [
        {
          "output_type": "stream",
          "name": "stdout",
          "text": [
            "Overlap with Original Text (LSA): 0.59%\n",
            "Overlap with Original Text (LexRank): 2.37%\n",
            "Overlap with Original Text (TextRank): 7.69%\n"
          ]
        }
      ]
    },
    {
      "cell_type": "code",
      "source": [
        "# Calculate readability scores for the original text\n",
        "flesch_reading_original = textstat.flesch_reading_ease(pdf_text)\n",
        "flesch_kincaid_original = textstat.flesch_kincaid_grade(pdf_text)\n",
        "\n",
        "print(\"Readability Scores for Original Text:\")\n",
        "print(f\"Flesch Reading Ease: {flesch_reading_original}\")\n",
        "print(f\"Flesch-Kincaid Grade Level: {flesch_kincaid_original}\\n\")\n",
        "\n",
        "# Calculate readability scores for the generated summaries (LSA, LexRank, TextRank)\n",
        "summaries = {\n",
        "    \"LSA Summary\": lsa_summary_text,\n",
        "    \"LexRank Summary\": lex_rank_summary_text,\n",
        "    \"TextRank Summary\": text_rank_summary_text\n",
        "}\n",
        "\n",
        "for summary_name, summary_text in summaries.items():\n",
        "    flesch_reading = textstat.flesch_reading_ease(summary_text)\n",
        "    flesch_kincaid = textstat.flesch_kincaid_grade(summary_text)\n",
        "\n",
        "    print(f\"Readability Scores for {summary_name}:\")\n",
        "    print(f\"Flesch Reading Ease: {flesch_reading}\")\n",
        "    print(f\"Flesch-Kincaid Grade Level: {flesch_kincaid}\\n\")"
      ],
      "metadata": {
        "colab": {
          "base_uri": "https://localhost:8080/"
        },
        "id": "Ke_LqLwyD8kw",
        "outputId": "8cb5083c-8100-4d76-d699-8c369bcd8b69"
      },
      "execution_count": 56,
      "outputs": [
        {
          "output_type": "stream",
          "name": "stdout",
          "text": [
            "Readability Scores for Original Text:\n",
            "Flesch Reading Ease: 49.35\n",
            "Flesch-Kincaid Grade Level: 11.8\n",
            "\n",
            "Readability Scores for LSA Summary:\n",
            "Flesch Reading Ease: 54.32\n",
            "Flesch-Kincaid Grade Level: 9.9\n",
            "\n",
            "Readability Scores for LexRank Summary:\n",
            "Flesch Reading Ease: 55.47\n",
            "Flesch-Kincaid Grade Level: 11.5\n",
            "\n",
            "Readability Scores for TextRank Summary:\n",
            "Flesch Reading Ease: 49.28\n",
            "Flesch-Kincaid Grade Level: 13.9\n",
            "\n"
          ]
        }
      ]
    },
    {
      "cell_type": "markdown",
      "source": [
        "# 2. Extractive Summarization"
      ],
      "metadata": {
        "id": "P_8v_q7zApsa"
      }
    },
    {
      "cell_type": "code",
      "source": [
        "# Function to extract text from a PDF file\n",
        "def extract_text_from_pdf(pdf_path):\n",
        "    with open(pdf_path, 'rb') as pdf_file:\n",
        "        pdf_reader = PyPDF2.PdfReader(pdf_file)\n",
        "        num_pages = len(pdf_reader.pages)\n",
        "        text = ''\n",
        "        for page_num in range(num_pages):\n",
        "            page = pdf_reader.getPage(page_num)\n",
        "            text += page.extractText()\n",
        "        return text\n",
        "\n",
        "# Load the summarization pipeline with GPT-2 model\n",
        "summarizer = pipeline(\"summarization\")\n",
        "\n",
        "# Replace with your PDF file path\n",
        "pdf_file_path = 'path_to_your_pdf_file.pdf'\n",
        "\n",
        "# Extract text from the PDF\n",
        "pdf_text = extract_text_from_pdf(pdf_file_path)\n",
        "\n",
        "# Generate abstractive summary\n",
        "generated_summary = summarizer(pdf_text, max_length=150, min_length=30, do_sample=False)\n",
        "\n",
        "# Print the generated summary\n",
        "print(\"Generated Abstractive Summary:\")\n",
        "print(generated_summary[0]['summary_text'])"
      ],
      "metadata": {
        "colab": {
          "base_uri": "https://localhost:8080/",
          "height": 256
        },
        "id": "2d4nfyXp_XZU",
        "outputId": "52744c5e-05bc-4df9-95c1-5d5d2047e835"
      },
      "execution_count": 60,
      "outputs": [
        {
          "output_type": "error",
          "ename": "NameError",
          "evalue": "ignored",
          "traceback": [
            "\u001b[0;31m---------------------------------------------------------------------------\u001b[0m",
            "\u001b[0;31mNameError\u001b[0m                                 Traceback (most recent call last)",
            "\u001b[0;32m<ipython-input-60-82a115884858>\u001b[0m in \u001b[0;36m<cell line: 13>\u001b[0;34m()\u001b[0m\n\u001b[1;32m     11\u001b[0m \u001b[0;34m\u001b[0m\u001b[0m\n\u001b[1;32m     12\u001b[0m \u001b[0;31m# Load the summarization pipeline with GPT-2 model\u001b[0m\u001b[0;34m\u001b[0m\u001b[0;34m\u001b[0m\u001b[0m\n\u001b[0;32m---> 13\u001b[0;31m \u001b[0msummarizer\u001b[0m \u001b[0;34m=\u001b[0m \u001b[0mpipeline\u001b[0m\u001b[0;34m(\u001b[0m\u001b[0;34m\"summarization\"\u001b[0m\u001b[0;34m)\u001b[0m\u001b[0;34m\u001b[0m\u001b[0;34m\u001b[0m\u001b[0m\n\u001b[0m\u001b[1;32m     14\u001b[0m \u001b[0;34m\u001b[0m\u001b[0m\n\u001b[1;32m     15\u001b[0m \u001b[0;31m# Replace with your PDF file path\u001b[0m\u001b[0;34m\u001b[0m\u001b[0;34m\u001b[0m\u001b[0m\n",
            "\u001b[0;31mNameError\u001b[0m: name 'pipeline' is not defined"
          ]
        }
      ]
    },
    {
      "cell_type": "code",
      "source": [],
      "metadata": {
        "id": "rhaZ-ObBEqap"
      },
      "execution_count": null,
      "outputs": []
    }
  ]
}