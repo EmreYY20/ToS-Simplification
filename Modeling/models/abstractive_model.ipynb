{
 "cells": [
  {
   "cell_type": "code",
   "execution_count": 39,
   "metadata": {},
   "outputs": [],
   "source": [
    "from datasets import load_dataset\n",
    "import pandas as pd\n",
    "from matplotlib import pyplot as plt\n",
    "\n",
    "import torch\n",
    "from transformers import BartTokenizer, BartForConditionalGeneration, Trainer, TrainingArguments, DataCollatorForSeq2Seq\n",
    "from sklearn.model_selection import train_test_split\n",
    "import pandas as pd\n",
    "from torch.utils.data import Dataset"
   ]
  },
  {
   "cell_type": "markdown",
   "metadata": {},
   "source": [
    "# 1. Understanding the data"
   ]
  },
  {
   "cell_type": "code",
   "execution_count": 47,
   "metadata": {},
   "outputs": [
    {
     "name": "stdout",
     "output_type": "stream",
     "text": [
      "Split lengths: [720, 90, 90]\n",
      "Features: ['plain_text', 'summary']\n",
      "\n",
      "Plain_text:\n",
      "What Personal Data Does Bandcamp Collect? Third parties may also collect information about your website activity over time and on other websites or mobile applications. Bandcamp cookies do not collect Personal Data, and we do not combine the general information collected through cookies with other Personal Data to tell us who you are or what your screen name or email address is. We use Google Analytics to collect and process analytical data about users of Bandcamp’s website. For Which Purposes Will Bandcamp Use Your Personal Data? We may receive Personal Data relating to you from:  You directly when you provide us with information about you; Your use of Bandcamp’s Service; Third parties that provide us with information about you. if Bandcamp, or substantially all of its assets were acquired, or in the unlikely event that Bandcamp goes out of business or enters bankruptcy, customer information would be one of the assets that is transferred or acquired by a third party.  Is Personal Data About You Secure? Bandcamp endeavors to protect user information to ensure that your Personal Data is kept private. We use physical, managerial, and technical security measures to protect your Personal Data against accidental or unlawful destruction, loss, alteration, unauthorized disclosure or access. In particular, we take steps to ensure that our employees and service providers who have access to your Personal Data only process it upon our instructions, unless otherwise required by law.  The Service may contain links to other sites. Bandcamp is not responsible for the privacy policies and/or practices on other sites. When linking to another site you should read the privacy policy stated on that site.  You may designate certain User Submissions as private so that they are not shared with other users. You can at any time tell us not to send you marketing communications by email by clicking on the unsubscribe link within the marketing emails you receive from us or by contacting us as specified in the “How To Contact Us” section below. exercise your right to data portability,  update and correct inaccuracies in your Personal Data, object to or restrict the processing of your Personal Data, and have the information blocked, anonymized or deleted, as appropriate. Changes to this Privacy Policy Bandcamp may amend this Privacy Policy from time to time. Use of information we collect now is subject to the Privacy Policy in effect at the time such information is used. If we make changes in the way we use Personal Data, we will notify you by posting an announcement on our Service or sending you an email. \n",
      "\n",
      "Summary:\n",
      "The service provides details about what kinds of personal information they collect. Third parties are involved in operating the service. The cookies used by this service do not contain information that would personally identify you. This service uses third-party cookies for statistics. The service provides information about how they intend to use your personal data. This service gathers information about you through third parties. The service can sell or otherwise transfer your personal data as part of a bankruptcy proceeding or other type of financial transaction.. The user is informed about security practices. The service informs users that its privacy policy does not apply to third party websites. You can choose with whom you share content. You can opt out of promotional communications. This service allows you to retrieve an archive of your data. You can request access and deletion of personal data. The service may change its terms at any time, but the user will receive notification of the changes.. \n"
     ]
    }
   ],
   "source": [
    "# Specify the full paths to your JSON files\n",
    "data_files = {'train': 'dataset/train.json', \n",
    "              'test': 'dataset/test.json', \n",
    "              'validation': 'dataset/validate.json'}\n",
    "\n",
    "# Load the dataset\n",
    "dataset = load_dataset(\"json\", data_files=data_files)\n",
    "\n",
    "# Get split lengths\n",
    "split_lengths = [len(dataset[split]) for split in dataset]\n",
    "\n",
    "print(f\"Split lengths: {split_lengths}\")\n",
    "print(f\"Features: {dataset['train'].column_names}\")\n",
    "print(\"\\nPlain_text:\")\n",
    "print(dataset[\"test\"][0][\"plain_text\"])\n",
    "print(\"\\nSummary:\")\n",
    "print(dataset[\"test\"][0][\"summary\"])"
   ]
  },
  {
   "cell_type": "code",
   "execution_count": 48,
   "metadata": {},
   "outputs": [
    {
     "data": {
      "image/png": "[encoded data removed]",
      "text/plain": [
       "<Figure size 640x480 with 1 Axes>"
      ]
     },
     "metadata": {},
     "output_type": "display_data"
    }
   ],
   "source": [
    "# Convert the dataset to Pandas DataFrames\n",
    "df_train = pd.DataFrame(dataset[\"train\"])\n",
    "\n",
    "# Calculate word counts for plain_text and summary columns\n",
    "df_train[\"WordsCount\"] = df_train[\"plain_text\"].str.split().apply(len)\n",
    "df_train[\"SummaryCount\"] = df_train[\"summary\"].str.split().apply(len)\n",
    "\n",
    "# Create a boxplot without outliers\n",
    "plt.boxplot(df_train[\"WordsCount\"])\n",
    "plt.title(\"Word Counts in Plain Text\")\n",
    "plt.ylabel(\"Word Count\")\n",
    "plt.show()"
   ]
  },
  {
   "cell_type": "code",
   "execution_count": 49,
   "metadata": {},
   "outputs": [
    {
     "data": {
      "text/plain": [
       "<Axes: >"
      ]
     },
     "execution_count": 49,
     "metadata": {},
     "output_type": "execute_result"
    }
   ],
   "source": [
    "df_train.boxplot(\"SummaryCount\", grid=False, showfliers=False)"
   ]
  },
  {
   "cell_type": "markdown",
   "metadata": {},
   "source": [
    "# 2. Fine-Tuning"
   ]
  },
  {
   "cell_type": "code",
   "execution_count": null,
   "metadata": {},
   "outputs": [],
   "source": [
    "class CustomDataset(Dataset):\n",
    "    def __init__(self, tokenizer, df, max_length=512, max_target_length=128):\n",
    "        self.input_ids = []\n",
    "        self.attention_mask = []\n",
    "        self.labels = []\n",
    "\n",
    "        for _, row in df.iterrows():\n",
    "            inputs = tokenizer.encode_plus(row['plain_text'], max_length=max_length, return_tensors='pt', truncation=True)\n",
    "            labels = tokenizer.encode_plus(row['summary'], max_length=max_target_length, return_tensors='pt', truncation=True)\n",
    "\n",
    "            self.input_ids.append(inputs.input_ids.flatten())\n",
    "            self.attention_mask.append(inputs.attention_mask.flatten())\n",
    "            self.labels.append(labels.input_ids.flatten())\n",
    "\n",
    "    def __len__(self):\n",
    "        return len(self.input_ids)\n",
    "\n",
    "    def __getitem__(self, idx):\n",
    "        return {'input_ids': self.input_ids[idx], \n",
    "                'attention_mask': self.attention_mask[idx], \n",
    "                'labels': self.labels[idx]}\n",
    "\n",
    "try:\n",
    "    # Load the fine-tuning dataset\n",
    "    df = pd.read_json('Modeling\\models\\dataset\\dataset.json', lines=True)\n",
    "\n",
    "    # Split the data into training and validation sets\n",
    "    train_df, val_df = train_test_split(df, test_size=0.1, random_state=42)\n",
    "\n",
    "    # Load BART pre-trained model and tokenizer\n",
    "    tokenizer = BartTokenizer.from_pretrained('facebook/bart-large-cnn')\n",
    "    model = BartForConditionalGeneration.from_pretrained('facebook/bart-large-cnn')\n",
    "\n",
    "    # Create datasets\n",
    "    train_dataset = CustomDataset(tokenizer, train_df)\n",
    "    val_dataset = CustomDataset(tokenizer, val_df)\n",
    "\n",
    "    # Define training configurations\n",
    "    training_args = TrainingArguments(\n",
    "        output_dir='./results',\n",
    "        overwrite_output_dir=True,\n",
    "        num_train_epochs=3,\n",
    "        per_device_train_batch_size=2,\n",
    "        per_device_eval_batch_size=2,\n",
    "        logging_steps=100,\n",
    "        save_steps=500,\n",
    "        warmup_steps=500,\n",
    "        weight_decay=0.01,\n",
    "        logging_dir='./logs',\n",
    "        evaluation_strategy=\"epoch\"\n",
    "    )\n",
    "\n",
    "    # Define data collator\n",
    "    data_collator = DataCollatorForSeq2Seq(tokenizer, model=model)\n",
    "\n",
    "    # Define the Trainer object\n",
    "    trainer = Trainer(\n",
    "        model=model,\n",
    "        args=training_args,\n",
    "        train_dataset=train_dataset,\n",
    "        eval_dataset=val_dataset,\n",
    "        data_collator=data_collator\n",
    "    )\n",
    "\n",
    "    # Start training using the Trainer instance\n",
    "    trainer.train()\n",
    "\n",
    "except Exception as e:\n",
    "    print(f\"An error occurred: {e}\")"
   ]
  },
  {
   "cell_type": "markdown",
   "metadata": {},
   "source": [
    "# 3. Predictions"
   ]
  },
  {
   "cell_type": "code",
   "execution_count": null,
   "metadata": {},
   "outputs": [],
   "source": [
    "def generate_summary(text):\n",
    "    inputs = tokenizer.encode(\"summarize: \" + text, return_tensors=\"pt\", max_length=512, truncation=True)\n",
    "    summary_ids = model.generate(inputs, max_length=150, min_length=40, length_penalty=2.0, num_beams=4, early_stopping=True)\n",
    "    summary = tokenizer.decode(summary_ids[0], skip_special_tokens=True)\n",
    "    return summary\n",
    "\n",
    "# Example usage\n",
    "new_text = \"Your new text that you want to summarize.\"\n",
    "print(generate_summary(new_text))"
   ]
  },
  {
   "cell_type": "markdown",
   "metadata": {},
   "source": [
    "# 4. Evaluation"
   ]
  },
  {
   "cell_type": "code",
   "execution_count": null,
   "metadata": {},
   "outputs": [],
   "source": [
    "evaluation_results = trainer.evaluate()\n",
    "print(evaluation_results)"
   ]
  }
 ],
 "metadata": {
  "kernelspec": {
   "display_name": ".venv",
   "language": "python",
   "name": "python3"
  },
  "language_info": {
   "codemirror_mode": {
    "name": "ipython",
    "version": 3
   },
   "file_extension": ".py",
   "mimetype": "text/x-python",
   "name": "python",
   "nbconvert_exporter": "python",
   "pygments_lexer": "ipython3",
   "version": "3.10.8"
  }
 },
 "nbformat": 4,
 "nbformat_minor": 2
}
